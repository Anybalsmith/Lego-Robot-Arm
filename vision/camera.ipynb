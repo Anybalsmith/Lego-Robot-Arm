{
 "cells": [
  {
   "cell_type": "code",
   "execution_count": 1,
   "metadata": {},
   "outputs": [],
   "source": [
    "import cv2\n",
    "import random"
   ]
  },
  {
   "cell_type": "code",
   "execution_count": null,
   "metadata": {},
   "outputs": [],
   "source": [
    "def capture_and_process_frame():\n",
    "    # Initialize the webcam\n",
    "    cap = cv2.VideoCapture(1)  # Change to 0 for the default webcam\n",
    "    \n",
    "    if not cap.isOpened():\n",
    "        print(\"Error: Could not open webcam.\")\n",
    "        return None\n",
    "    \n",
    "    while True:\n",
    "        # Capture frame-by-frame\n",
    "        ret, frame = cap.read()\n",
    "        \n",
    "        if not ret:\n",
    "            print(\"Failed to capture image from webcam.\")\n",
    "            break\n",
    "        \n",
    "        # Get dimensions of the frame\n",
    "        height, width, _ = frame.shape\n",
    "        \n",
    "        # Print the width and height of the image\n",
    "        print(f\"Width: {width}, Height: {height}\")\n",
    "        \n",
    "        # Define the possible positions as numbers from 0 to 5\n",
    "        positions = list(range(6))\n",
    "        \n",
    "        # Randomly select one of the positions\n",
    "        selected_position = random.choice(positions)\n",
    "        \n",
    "        # Display the resulting frame\n",
    "        cv2.imshow('Webcam Feed', frame)\n",
    "        \n",
    "        # Print the selected position\n",
    "        print(f\"Selected position: {selected_position}\")\n",
    "        \n",
    "        # Break the loop on 'q' key press\n",
    "        if cv2.waitKey(1) & 0xFF == ord('q'):\n",
    "            break\n",
    "    \n",
    "    # When everything done, release the capture\n",
    "    cap.release()\n",
    "    cv2.destroyAllWindows()\n",
    "    return selected_position\n",
    "\n",
    "\n"
   ]
  },
  {
   "cell_type": "code",
   "execution_count": null,
   "metadata": {},
   "outputs": [],
   "source": [
    "# Capture and process the webcam frame\n",
    "position = capture_and_process_frame()\n",
    "if position is not None:\n",
    "    print(f\"Final selected position: {position}\")"
   ]
  }
 ],
 "metadata": {
  "kernelspec": {
   "display_name": "base",
   "language": "python",
   "name": "python3"
  },
  "language_info": {
   "codemirror_mode": {
    "name": "ipython",
    "version": 3
   },
   "file_extension": ".py",
   "mimetype": "text/x-python",
   "name": "python",
   "nbconvert_exporter": "python",
   "pygments_lexer": "ipython3",
   "version": "3.12.4"
  }
 },
 "nbformat": 4,
 "nbformat_minor": 2
}
